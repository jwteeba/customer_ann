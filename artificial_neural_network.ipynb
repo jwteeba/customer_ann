{
 "cells": [
  {
   "cell_type": "markdown",
   "metadata": {
    "colab_type": "text",
    "id": "lP6JLo1tGNBg"
   },
   "source": [
    "# Artificial Neural Network\n",
    "Predit whether a customer leave a bank or not"
   ]
  },
  {
   "cell_type": "code",
   "execution_count": 17,
   "metadata": {
    "colab": {},
    "colab_type": "code",
    "id": "MxkJoQBkUIHC"
   },
   "outputs": [],
   "source": [
    "import numpy as np\n",
    "import pandas as pd\n",
    "import tensorflow as tf\n",
    "from tensorflow import keras\n",
    "from tensorflow.keras.models import Sequential"
   ]
  },
  {
   "cell_type": "code",
   "execution_count": 18,
   "metadata": {
    "colab": {
     "base_uri": "https://localhost:8080/",
     "height": 34
    },
    "colab_type": "code",
    "id": "ZaTwK7ojXr2F",
    "outputId": "0b27a96d-d11a-43e8-ab4b-87c1f01896fe"
   },
   "outputs": [
    {
     "data": {
      "text/plain": [
       "'2.4.1'"
      ]
     },
     "execution_count": 18,
     "metadata": {},
     "output_type": "execute_result"
    }
   ],
   "source": [
    "tf.__version__"
   ]
  },
  {
   "cell_type": "markdown",
   "metadata": {
    "colab_type": "text",
    "id": "cKWAkFVGUU0Z"
   },
   "source": [
    "### Import dataset"
   ]
  },
  {
   "cell_type": "code",
   "execution_count": 19,
   "metadata": {
    "colab": {},
    "colab_type": "code",
    "id": "MXUkhkMfU4wq"
   },
   "outputs": [],
   "source": [
    "dataset = pd.read_csv('Churn_Modelling.csv')\n",
    "X = dataset.iloc[:, 3:-1].values\n",
    "y = dataset.iloc[:, -1].values"
   ]
  },
  {
   "cell_type": "code",
   "execution_count": 20,
   "metadata": {
    "colab": {
     "base_uri": "https://localhost:8080/",
     "height": 137
    },
    "colab_type": "code",
    "id": "VYP9cQTWbzuI",
    "outputId": "797e7a64-9bac-436a-8c9c-94437e5e7587"
   },
   "outputs": [
    {
     "name": "stdout",
     "output_type": "stream",
     "text": [
      "[[619 'France' 'Female' ... 1 1 101348.88]\n",
      " [608 'Spain' 'Female' ... 0 1 112542.58]\n",
      " [502 'France' 'Female' ... 1 0 113931.57]\n",
      " ...\n",
      " [709 'France' 'Female' ... 0 1 42085.58]\n",
      " [772 'Germany' 'Male' ... 1 0 92888.52]\n",
      " [792 'France' 'Female' ... 1 0 38190.78]]\n"
     ]
    }
   ],
   "source": [
    "print(X)"
   ]
  },
  {
   "cell_type": "code",
   "execution_count": 21,
   "metadata": {
    "colab": {
     "base_uri": "https://localhost:8080/",
     "height": 34
    },
    "colab_type": "code",
    "id": "38vKGE6Nb2RR",
    "outputId": "a815e42a-e0dd-4cb5-ab97-b17ead98fbc3"
   },
   "outputs": [
    {
     "name": "stdout",
     "output_type": "stream",
     "text": [
      "[1 0 1 ... 1 1 0]\n"
     ]
    }
   ],
   "source": [
    "print(y)"
   ]
  },
  {
   "cell_type": "markdown",
   "metadata": {
    "colab_type": "text",
    "id": "N6bQ0UgSU-NJ"
   },
   "source": [
    "### Encoding categorical data"
   ]
  },
  {
   "cell_type": "markdown",
   "metadata": {
    "colab_type": "text",
    "id": "le5MJreAbW52"
   },
   "source": [
    "Label Encoding the \"Gender\" column"
   ]
  },
  {
   "cell_type": "code",
   "execution_count": 22,
   "metadata": {
    "colab": {},
    "colab_type": "code",
    "id": "PxVKWXxLbczC"
   },
   "outputs": [],
   "source": [
    "from sklearn.preprocessing import LabelEncoder\n",
    "le = LabelEncoder()\n",
    "X[:, 2] = le.fit_transform(X[:, 2])"
   ]
  },
  {
   "cell_type": "code",
   "execution_count": 23,
   "metadata": {
    "colab": {
     "base_uri": "https://localhost:8080/",
     "height": 137
    },
    "colab_type": "code",
    "id": "-M1KboxFb6OO",
    "outputId": "e2b8c7e8-0cbc-4cdf-f4eb-7f0853a00b88"
   },
   "outputs": [
    {
     "name": "stdout",
     "output_type": "stream",
     "text": [
      "[[619 'France' 0 ... 1 1 101348.88]\n",
      " [608 'Spain' 0 ... 0 1 112542.58]\n",
      " [502 'France' 0 ... 1 0 113931.57]\n",
      " ...\n",
      " [709 'France' 0 ... 0 1 42085.58]\n",
      " [772 'Germany' 1 ... 1 0 92888.52]\n",
      " [792 'France' 0 ... 1 0 38190.78]]\n"
     ]
    }
   ],
   "source": [
    "print(X)"
   ]
  },
  {
   "cell_type": "markdown",
   "metadata": {
    "colab_type": "text",
    "id": "CUxGZezpbMcb"
   },
   "source": [
    "One Hot Encoding the \"Geography\" column"
   ]
  },
  {
   "cell_type": "code",
   "execution_count": 24,
   "metadata": {
    "colab": {},
    "colab_type": "code",
    "id": "AMXC8-KMVirw"
   },
   "outputs": [],
   "source": [
    "from sklearn.compose import ColumnTransformer\n",
    "from sklearn.preprocessing import OneHotEncoder\n",
    "ct = ColumnTransformer(transformers=[('encoder', OneHotEncoder(), [1])], remainder='passthrough')\n",
    "X = np.array(ct.fit_transform(X))"
   ]
  },
  {
   "cell_type": "code",
   "execution_count": 25,
   "metadata": {
    "colab": {
     "base_uri": "https://localhost:8080/",
     "height": 137
    },
    "colab_type": "code",
    "id": "ZcxwEon-b8nV",
    "outputId": "23a98af4-5e33-4b26-c27b-f06e3c5d2baf"
   },
   "outputs": [
    {
     "name": "stdout",
     "output_type": "stream",
     "text": [
      "[[1.0 0.0 0.0 ... 1 1 101348.88]\n",
      " [0.0 0.0 1.0 ... 0 1 112542.58]\n",
      " [1.0 0.0 0.0 ... 1 0 113931.57]\n",
      " ...\n",
      " [1.0 0.0 0.0 ... 0 1 42085.58]\n",
      " [0.0 1.0 0.0 ... 1 0 92888.52]\n",
      " [1.0 0.0 0.0 ... 1 0 38190.78]]\n"
     ]
    }
   ],
   "source": [
    "print(X)"
   ]
  },
  {
   "cell_type": "markdown",
   "metadata": {
    "colab_type": "text",
    "id": "vHol938cW8zd"
   },
   "source": [
    "### Splitting the dataset into the Training set and Test set"
   ]
  },
  {
   "cell_type": "code",
   "execution_count": 26,
   "metadata": {
    "colab": {},
    "colab_type": "code",
    "id": "Z-TDt0Y_XEfc"
   },
   "outputs": [],
   "source": [
    "from sklearn.model_selection import train_test_split\n",
    "X_train, X_test, y_train, y_test = train_test_split(X, y, test_size = 0.2, random_state = 0)"
   ]
  },
  {
   "cell_type": "markdown",
   "metadata": {
    "colab_type": "text",
    "id": "RE_FcHyfV3TQ"
   },
   "source": [
    "### Feature Scaling"
   ]
  },
  {
   "cell_type": "code",
   "execution_count": 27,
   "metadata": {
    "colab": {},
    "colab_type": "code",
    "id": "ViCrE00rV8Sk"
   },
   "outputs": [],
   "source": [
    "from sklearn.preprocessing import StandardScaler\n",
    "sc = StandardScaler()\n",
    "X_train = sc.fit_transform(X_train)\n",
    "X_test = sc.transform(X_test)"
   ]
  },
  {
   "cell_type": "markdown",
   "metadata": {
    "colab_type": "text",
    "id": "KvdeScabXtlB"
   },
   "source": [
    "### Create ANN Model"
   ]
  },
  {
   "cell_type": "code",
   "execution_count": 34,
   "metadata": {
    "colab": {},
    "colab_type": "code",
    "id": "3dtrScHxXQox"
   },
   "outputs": [],
   "source": [
    "ann_model = Sequential()\n",
    "ann_model.add(tf.keras.layers.Dense(units=6, activation='relu'))\n",
    "ann_model.add(tf.keras.layers.Dense(units=6, activation='relu'))\n",
    "ann_model.add(tf.keras.layers.Dense(units=6, activation='relu'))\n",
    "ann_model.add(tf.keras.layers.Dense(units=1, activation='sigmoid'))"
   ]
  },
  {
   "cell_type": "markdown",
   "metadata": {
    "colab_type": "text",
    "id": "8GWlJChhY_ZI"
   },
   "source": [
    "### Compile ANN Model"
   ]
  },
  {
   "cell_type": "code",
   "execution_count": 35,
   "metadata": {
    "colab": {},
    "colab_type": "code",
    "id": "fG3RrwDXZEaS"
   },
   "outputs": [],
   "source": [
    "ann_model.compile(optimizer = 'adam', loss = 'binary_crossentropy', metrics = ['accuracy'])"
   ]
  },
  {
   "cell_type": "markdown",
   "metadata": {
    "colab_type": "text",
    "id": "0QR_G5u7ZLSM"
   },
   "source": [
    "### Training ANN Model"
   ]
  },
  {
   "cell_type": "code",
   "execution_count": 43,
   "metadata": {
    "colab": {
     "base_uri": "https://localhost:8080/",
     "height": 1000
    },
    "colab_type": "code",
    "id": "nHZ-LKv_ZRb3",
    "outputId": "718cc4b0-b5aa-40f0-9b20-d3d31730a531"
   },
   "outputs": [
    {
     "name": "stdout",
     "output_type": "stream",
     "text": [
      "Epoch 1/100\n",
      "250/250 [==============================] - 0s 893us/step - loss: 0.3283 - accuracy: 0.8649\n",
      "Epoch 2/100\n",
      "250/250 [==============================] - 0s 837us/step - loss: 0.3284 - accuracy: 0.8641\n",
      "Epoch 3/100\n",
      "250/250 [==============================] - 0s 823us/step - loss: 0.3284 - accuracy: 0.8650\n",
      "Epoch 4/100\n",
      "250/250 [==============================] - 0s 810us/step - loss: 0.3277 - accuracy: 0.8658\n",
      "Epoch 5/100\n",
      "250/250 [==============================] - 0s 812us/step - loss: 0.3285 - accuracy: 0.8633\n",
      "Epoch 6/100\n",
      "250/250 [==============================] - 0s 814us/step - loss: 0.3281 - accuracy: 0.8655\n",
      "Epoch 7/100\n",
      "250/250 [==============================] - 0s 821us/step - loss: 0.3286 - accuracy: 0.8660\n",
      "Epoch 8/100\n",
      "250/250 [==============================] - 0s 842us/step - loss: 0.3285 - accuracy: 0.8654\n",
      "Epoch 9/100\n",
      "250/250 [==============================] - 0s 817us/step - loss: 0.3281 - accuracy: 0.8656\n",
      "Epoch 10/100\n",
      "250/250 [==============================] - 0s 827us/step - loss: 0.3280 - accuracy: 0.8656\n",
      "Epoch 11/100\n",
      "250/250 [==============================] - 0s 825us/step - loss: 0.3274 - accuracy: 0.8651\n",
      "Epoch 12/100\n",
      "250/250 [==============================] - 0s 825us/step - loss: 0.3271 - accuracy: 0.8640\n",
      "Epoch 13/100\n",
      "250/250 [==============================] - 0s 793us/step - loss: 0.3281 - accuracy: 0.8660\n",
      "Epoch 14/100\n",
      "250/250 [==============================] - 0s 844us/step - loss: 0.3287 - accuracy: 0.8651\n",
      "Epoch 15/100\n",
      "250/250 [==============================] - 0s 783us/step - loss: 0.3284 - accuracy: 0.8650\n",
      "Epoch 16/100\n",
      "250/250 [==============================] - 0s 862us/step - loss: 0.3280 - accuracy: 0.8654\n",
      "Epoch 17/100\n",
      "250/250 [==============================] - 0s 807us/step - loss: 0.3279 - accuracy: 0.8644\n",
      "Epoch 18/100\n",
      "250/250 [==============================] - 0s 836us/step - loss: 0.3275 - accuracy: 0.8645\n",
      "Epoch 19/100\n",
      "250/250 [==============================] - 0s 819us/step - loss: 0.3279 - accuracy: 0.8639\n",
      "Epoch 20/100\n",
      "250/250 [==============================] - 0s 807us/step - loss: 0.3282 - accuracy: 0.8648\n",
      "Epoch 21/100\n",
      "250/250 [==============================] - 0s 840us/step - loss: 0.3273 - accuracy: 0.8668\n",
      "Epoch 22/100\n",
      "250/250 [==============================] - 0s 804us/step - loss: 0.3274 - accuracy: 0.8646\n",
      "Epoch 23/100\n",
      "250/250 [==============================] - 0s 792us/step - loss: 0.3264 - accuracy: 0.8668\n",
      "Epoch 24/100\n",
      "250/250 [==============================] - 0s 823us/step - loss: 0.3279 - accuracy: 0.8655\n",
      "Epoch 25/100\n",
      "250/250 [==============================] - 0s 795us/step - loss: 0.3278 - accuracy: 0.8661\n",
      "Epoch 26/100\n",
      "250/250 [==============================] - 0s 848us/step - loss: 0.3278 - accuracy: 0.8637\n",
      "Epoch 27/100\n",
      "250/250 [==============================] - 0s 840us/step - loss: 0.3276 - accuracy: 0.8652\n",
      "Epoch 28/100\n",
      "250/250 [==============================] - 0s 843us/step - loss: 0.3275 - accuracy: 0.8650\n",
      "Epoch 29/100\n",
      "250/250 [==============================] - 0s 866us/step - loss: 0.3275 - accuracy: 0.8641\n",
      "Epoch 30/100\n",
      "250/250 [==============================] - 0s 802us/step - loss: 0.3265 - accuracy: 0.8661\n",
      "Epoch 31/100\n",
      "250/250 [==============================] - 0s 788us/step - loss: 0.3276 - accuracy: 0.8640\n",
      "Epoch 32/100\n",
      "250/250 [==============================] - 0s 817us/step - loss: 0.3272 - accuracy: 0.8654\n",
      "Epoch 33/100\n",
      "250/250 [==============================] - 0s 811us/step - loss: 0.3276 - accuracy: 0.8648\n",
      "Epoch 34/100\n",
      "250/250 [==============================] - 0s 864us/step - loss: 0.3269 - accuracy: 0.8645\n",
      "Epoch 35/100\n",
      "250/250 [==============================] - 0s 874us/step - loss: 0.3270 - accuracy: 0.8650\n",
      "Epoch 36/100\n",
      "250/250 [==============================] - 0s 838us/step - loss: 0.3274 - accuracy: 0.8654\n",
      "Epoch 37/100\n",
      "250/250 [==============================] - 0s 799us/step - loss: 0.3276 - accuracy: 0.8644\n",
      "Epoch 38/100\n",
      "250/250 [==============================] - 0s 891us/step - loss: 0.3278 - accuracy: 0.8662\n",
      "Epoch 39/100\n",
      "250/250 [==============================] - 0s 869us/step - loss: 0.3278 - accuracy: 0.8650\n",
      "Epoch 40/100\n",
      "250/250 [==============================] - 0s 868us/step - loss: 0.3279 - accuracy: 0.8652\n",
      "Epoch 41/100\n",
      "250/250 [==============================] - 0s 861us/step - loss: 0.3268 - accuracy: 0.8643\n",
      "Epoch 42/100\n",
      "250/250 [==============================] - 0s 836us/step - loss: 0.3273 - accuracy: 0.8652\n",
      "Epoch 43/100\n",
      "250/250 [==============================] - 0s 872us/step - loss: 0.3278 - accuracy: 0.8654\n",
      "Epoch 44/100\n",
      "250/250 [==============================] - 0s 864us/step - loss: 0.3269 - accuracy: 0.8671\n",
      "Epoch 45/100\n",
      "250/250 [==============================] - 0s 862us/step - loss: 0.3272 - accuracy: 0.8668\n",
      "Epoch 46/100\n",
      "250/250 [==============================] - 0s 809us/step - loss: 0.3267 - accuracy: 0.8644\n",
      "Epoch 47/100\n",
      "250/250 [==============================] - 0s 862us/step - loss: 0.3274 - accuracy: 0.8650\n",
      "Epoch 48/100\n",
      "250/250 [==============================] - 0s 819us/step - loss: 0.3270 - accuracy: 0.8644\n",
      "Epoch 49/100\n",
      "250/250 [==============================] - 0s 810us/step - loss: 0.3270 - accuracy: 0.8654\n",
      "Epoch 50/100\n",
      "250/250 [==============================] - 0s 827us/step - loss: 0.3271 - accuracy: 0.8658\n",
      "Epoch 51/100\n",
      "250/250 [==============================] - 0s 823us/step - loss: 0.3265 - accuracy: 0.8651\n",
      "Epoch 52/100\n",
      "250/250 [==============================] - 0s 799us/step - loss: 0.3266 - accuracy: 0.8662\n",
      "Epoch 53/100\n",
      "250/250 [==============================] - 0s 824us/step - loss: 0.3270 - accuracy: 0.8671\n",
      "Epoch 54/100\n",
      "250/250 [==============================] - 0s 842us/step - loss: 0.3274 - accuracy: 0.8656\n",
      "Epoch 55/100\n",
      "250/250 [==============================] - 0s 818us/step - loss: 0.3272 - accuracy: 0.8639\n",
      "Epoch 56/100\n",
      "250/250 [==============================] - 0s 871us/step - loss: 0.3275 - accuracy: 0.8654\n",
      "Epoch 57/100\n",
      "250/250 [==============================] - 0s 810us/step - loss: 0.3263 - accuracy: 0.8658\n",
      "Epoch 58/100\n",
      "250/250 [==============================] - 0s 804us/step - loss: 0.3272 - accuracy: 0.8658\n",
      "Epoch 59/100\n",
      "250/250 [==============================] - 0s 856us/step - loss: 0.3268 - accuracy: 0.8636\n",
      "Epoch 60/100\n",
      "250/250 [==============================] - 0s 829us/step - loss: 0.3263 - accuracy: 0.8656\n",
      "Epoch 61/100\n",
      "250/250 [==============================] - 0s 830us/step - loss: 0.3268 - accuracy: 0.8668\n",
      "Epoch 62/100\n",
      "250/250 [==============================] - 0s 869us/step - loss: 0.3265 - accuracy: 0.8675\n",
      "Epoch 63/100\n",
      "250/250 [==============================] - 0s 847us/step - loss: 0.3259 - accuracy: 0.8677\n",
      "Epoch 64/100\n",
      "250/250 [==============================] - 0s 803us/step - loss: 0.3264 - accuracy: 0.8645\n",
      "Epoch 65/100\n",
      "250/250 [==============================] - 0s 877us/step - loss: 0.3272 - accuracy: 0.8644\n",
      "Epoch 66/100\n",
      "250/250 [==============================] - 0s 841us/step - loss: 0.3271 - accuracy: 0.8651\n",
      "Epoch 67/100\n",
      "250/250 [==============================] - 0s 801us/step - loss: 0.3263 - accuracy: 0.8660\n",
      "Epoch 68/100\n",
      "250/250 [==============================] - 0s 861us/step - loss: 0.3270 - accuracy: 0.8648\n",
      "Epoch 69/100\n",
      "250/250 [==============================] - 0s 791us/step - loss: 0.3267 - accuracy: 0.8637\n",
      "Epoch 70/100\n",
      "250/250 [==============================] - 0s 833us/step - loss: 0.3269 - accuracy: 0.8666\n",
      "Epoch 71/100\n",
      "250/250 [==============================] - 0s 792us/step - loss: 0.3264 - accuracy: 0.8661\n",
      "Epoch 72/100\n",
      "250/250 [==============================] - 0s 837us/step - loss: 0.3263 - accuracy: 0.8650\n",
      "Epoch 73/100\n",
      "250/250 [==============================] - 0s 826us/step - loss: 0.3271 - accuracy: 0.8654\n",
      "Epoch 74/100\n",
      "250/250 [==============================] - 0s 823us/step - loss: 0.3266 - accuracy: 0.8658\n",
      "Epoch 75/100\n",
      "250/250 [==============================] - 0s 798us/step - loss: 0.3263 - accuracy: 0.8649\n",
      "Epoch 76/100\n",
      "250/250 [==============================] - 0s 820us/step - loss: 0.3263 - accuracy: 0.8661\n",
      "Epoch 77/100\n",
      "250/250 [==============================] - 0s 810us/step - loss: 0.3263 - accuracy: 0.8662\n",
      "Epoch 78/100\n",
      "250/250 [==============================] - 0s 860us/step - loss: 0.3269 - accuracy: 0.8641\n",
      "Epoch 79/100\n"
     ]
    },
    {
     "name": "stdout",
     "output_type": "stream",
     "text": [
      "250/250 [==============================] - 0s 825us/step - loss: 0.3277 - accuracy: 0.8641\n",
      "Epoch 80/100\n",
      "250/250 [==============================] - 0s 827us/step - loss: 0.3256 - accuracy: 0.8659\n",
      "Epoch 81/100\n",
      "250/250 [==============================] - 0s 790us/step - loss: 0.3259 - accuracy: 0.8673\n",
      "Epoch 82/100\n",
      "250/250 [==============================] - 0s 806us/step - loss: 0.3273 - accuracy: 0.8673\n",
      "Epoch 83/100\n",
      "250/250 [==============================] - 0s 846us/step - loss: 0.3253 - accuracy: 0.8670\n",
      "Epoch 84/100\n",
      "250/250 [==============================] - 0s 803us/step - loss: 0.3267 - accuracy: 0.8658\n",
      "Epoch 85/100\n",
      "250/250 [==============================] - 0s 795us/step - loss: 0.3259 - accuracy: 0.8660\n",
      "Epoch 86/100\n",
      "250/250 [==============================] - 0s 816us/step - loss: 0.3270 - accuracy: 0.8658\n",
      "Epoch 87/100\n",
      "250/250 [==============================] - 0s 808us/step - loss: 0.3264 - accuracy: 0.8655\n",
      "Epoch 88/100\n",
      "250/250 [==============================] - 0s 824us/step - loss: 0.3265 - accuracy: 0.8661\n",
      "Epoch 89/100\n",
      "250/250 [==============================] - 0s 774us/step - loss: 0.3251 - accuracy: 0.8680\n",
      "Epoch 90/100\n",
      "250/250 [==============================] - 0s 783us/step - loss: 0.3263 - accuracy: 0.8661\n",
      "Epoch 91/100\n",
      "250/250 [==============================] - 0s 805us/step - loss: 0.3260 - accuracy: 0.8669\n",
      "Epoch 92/100\n",
      "250/250 [==============================] - 0s 799us/step - loss: 0.3255 - accuracy: 0.8652\n",
      "Epoch 93/100\n",
      "250/250 [==============================] - 0s 828us/step - loss: 0.3261 - accuracy: 0.8651\n",
      "Epoch 94/100\n",
      "250/250 [==============================] - 0s 804us/step - loss: 0.3261 - accuracy: 0.8661\n",
      "Epoch 95/100\n",
      "250/250 [==============================] - 0s 800us/step - loss: 0.3263 - accuracy: 0.8640\n",
      "Epoch 96/100\n",
      "250/250 [==============================] - 0s 791us/step - loss: 0.3265 - accuracy: 0.8656\n",
      "Epoch 97/100\n",
      "250/250 [==============================] - 0s 832us/step - loss: 0.3264 - accuracy: 0.8655\n",
      "Epoch 98/100\n",
      "250/250 [==============================] - 0s 784us/step - loss: 0.3268 - accuracy: 0.8689\n",
      "Epoch 99/100\n",
      "250/250 [==============================] - 0s 786us/step - loss: 0.3261 - accuracy: 0.8664\n",
      "Epoch 100/100\n",
      "250/250 [==============================] - 0s 844us/step - loss: 0.3258 - accuracy: 0.8681\n"
     ]
    }
   ],
   "source": [
    "history = ann_model.fit(X_train, y_train, batch_size = 32, epochs = 100)"
   ]
  },
  {
   "cell_type": "markdown",
   "metadata": {
    "colab_type": "text",
    "id": "84QFoqGYeXHL"
   },
   "source": [
    "### Predicting the result of a single observation"
   ]
  },
  {
   "cell_type": "markdown",
   "metadata": {
    "colab_type": "text",
    "id": "CGRo3eacgDdC"
   },
   "source": [
    "\n",
    "\n",
    "Predit whether the following customer will leave the bank\n",
    "\n",
    "Geography: France\n",
    "\n",
    "Credit Score: 600\n",
    "\n",
    "Gender: Male\n",
    "\n",
    "Age: 40 years old\n",
    "\n",
    "Tenure: 3 years\n",
    "\n",
    "Balance: \\$ 60000\n",
    "\n",
    "Number of Products: 2\n",
    "\n",
    "Does this customer have a credit card ? Yes\n",
    "\n",
    "Is this customer an Active Member: Yes\n",
    "\n",
    "Estimated Salary: \\$ 50000\n",
    "\n",
    "So, should we say goodbye to that customer ?"
   ]
  },
  {
   "cell_type": "markdown",
   "metadata": {
    "colab_type": "text",
    "id": "ZhU1LTgPg-kH"
   },
   "source": [
    "**Result**"
   ]
  },
  {
   "cell_type": "code",
   "execution_count": 44,
   "metadata": {
    "colab": {
     "base_uri": "https://localhost:8080/",
     "height": 34
    },
    "colab_type": "code",
    "id": "2d8IoCCkeWGL",
    "outputId": "957f3970-e197-4c3b-a150-7f69dc567f5d"
   },
   "outputs": [
    {
     "name": "stdout",
     "output_type": "stream",
     "text": [
      "[[False]]\n"
     ]
    }
   ],
   "source": [
    "print(ann_model.predict(sc.transform([[1, 0, 0, 600, 1, 40, 3, 60000, 2, 1, 1, 50000]])) > 0.5)"
   ]
  },
  {
   "cell_type": "markdown",
   "metadata": {
    "colab_type": "text",
    "id": "wGjx94g2n7OV"
   },
   "source": [
    "The ANN model predicts that this customer stays in the bank!\n"
   ]
  },
  {
   "cell_type": "markdown",
   "metadata": {
    "colab_type": "text",
    "id": "u7yx47jPZt11"
   },
   "source": [
    "### Predicting the Test set results"
   ]
  },
  {
   "cell_type": "code",
   "execution_count": 45,
   "metadata": {
    "colab": {
     "base_uri": "https://localhost:8080/",
     "height": 137
    },
    "colab_type": "code",
    "id": "nIyEeQdRZwgs",
    "outputId": "82330ba8-9bdc-4fd1-d3cf-b6d78ee7c2a3"
   },
   "outputs": [
    {
     "name": "stdout",
     "output_type": "stream",
     "text": [
      "[[0 0]\n",
      " [0 1]\n",
      " [0 0]\n",
      " ...\n",
      " [0 0]\n",
      " [0 0]\n",
      " [0 0]]\n"
     ]
    }
   ],
   "source": [
    "y_pred = ann_model.predict(X_test)\n",
    "y_pred = (y_pred > 0.5)\n",
    "print(np.concatenate((y_pred.reshape(len(y_pred),1), y_test.reshape(len(y_test),1)),1))"
   ]
  },
  {
   "cell_type": "markdown",
   "metadata": {
    "colab_type": "text",
    "id": "o0oyfLWoaEGw"
   },
   "source": [
    "### Making the Confusion Matrix"
   ]
  },
  {
   "cell_type": "code",
   "execution_count": 55,
   "metadata": {
    "colab": {
     "base_uri": "https://localhost:8080/",
     "height": 68
    },
    "colab_type": "code",
    "id": "ci6K_r6LaF6P",
    "outputId": "4d854e9e-22d5-432f-f6e5-a102fe3ae0bd"
   },
   "outputs": [
    {
     "name": "stdout",
     "output_type": "stream",
     "text": [
      "[[1496   99]\n",
      " [ 177  228]]\n"
     ]
    },
    {
     "data": {
      "text/plain": [
       "0.862"
      ]
     },
     "execution_count": 55,
     "metadata": {},
     "output_type": "execute_result"
    }
   ],
   "source": [
    "from sklearn.metrics import confusion_matrix, accuracy_score\n",
    "cm = confusion_matrix(y_test, y_pred)\n",
    "print(cm)\n",
    "accuracy_score(y_test, y_pred)"
   ]
  },
  {
   "cell_type": "code",
   "execution_count": 56,
   "metadata": {},
   "outputs": [],
   "source": [
    "ann_model.save('customer_management.h5', overwrite=True)"
   ]
  },
  {
   "cell_type": "code",
   "execution_count": null,
   "metadata": {},
   "outputs": [],
   "source": []
  }
 ],
 "metadata": {
  "colab": {
   "collapsed_sections": [],
   "name": "artificial_neural_network.ipynb",
   "provenance": [],
   "toc_visible": true
  },
  "kernelspec": {
   "display_name": "Python 3",
   "language": "python",
   "name": "python3"
  },
  "language_info": {
   "codemirror_mode": {
    "name": "ipython",
    "version": 3
   },
   "file_extension": ".py",
   "mimetype": "text/x-python",
   "name": "python",
   "nbconvert_exporter": "python",
   "pygments_lexer": "ipython3",
   "version": "3.8.8"
  }
 },
 "nbformat": 4,
 "nbformat_minor": 1
}
